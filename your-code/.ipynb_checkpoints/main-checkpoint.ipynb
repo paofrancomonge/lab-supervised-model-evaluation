{
 "cells": [
  {
   "cell_type": "markdown",
   "metadata": {},
   "source": [
    "# Supervised Learning Model Evaluation Lab\n",
    "\n",
    "Complete the exercises below to solidify your knowledge and understanding of supervised learning model evaluation."
   ]
  },
  {
   "cell_type": "code",
   "execution_count": 1,
   "metadata": {},
   "outputs": [],
   "source": [
    "import pandas as pd"
   ]
  },
  {
   "cell_type": "markdown",
   "metadata": {},
   "source": [
    "## Regression Model Evaluation"
   ]
  },
  {
   "cell_type": "code",
   "execution_count": 2,
   "metadata": {},
   "outputs": [],
   "source": [
    "from sklearn.datasets import load_boston\n",
    "\n",
    "data = load_boston()\n",
    "\n",
    "X = pd.DataFrame(data[\"data\"], columns=data[\"feature_names\"])\n",
    "y = pd.DataFrame(data[\"target\"], columns=['MEDV'])\n",
    "\n",
    "data = pd.concat([X, y], axis=1)"
   ]
  },
  {
   "cell_type": "markdown",
   "metadata": {},
   "source": [
    "## 1. Split this data set into training (80%) and testing (20%) sets.\n",
    "\n",
    "The `MEDV` field represents the median value of owner-occupied homes (in $1000's) and is the target variable that we will want to predict."
   ]
  },
  {
   "cell_type": "code",
   "execution_count": 3,
   "metadata": {},
   "outputs": [],
   "source": [
    "from sklearn.model_selection import train_test_split\n",
    "\n",
    "#Entrenamiento de prueba \n",
    "x_train, x_test, y_train, y_test = train_test_split(X, y, test_size = .2, random_state = 5)"
   ]
  },
  {
   "cell_type": "markdown",
   "metadata": {},
   "source": [
    "## 2. Train a `LinearRegression` model on this data set and generate predictions on both the training and the testing set."
   ]
  },
  {
   "cell_type": "code",
   "execution_count": 20,
   "metadata": {},
   "outputs": [],
   "source": [
    "from sklearn.linear_model import LinearRegression \n",
    "\n",
    "linreg = LinearRegression().fit(x_train,y_train)"
   ]
  },
  {
   "cell_type": "code",
   "execution_count": 21,
   "metadata": {},
   "outputs": [
    {
     "data": {
      "text/plain": [
       "array([[13.82876985],\n",
       "       [44.52852811],\n",
       "       [ 3.91599095],\n",
       "       [22.37795855],\n",
       "       [18.23592252],\n",
       "       [25.52374759],\n",
       "       [29.43974677],\n",
       "       [18.69453347],\n",
       "       [27.85646296],\n",
       "       [24.64473374],\n",
       "       [20.53039645],\n",
       "       [32.24809769],\n",
       "       [19.53384497],\n",
       "       [10.6751149 ],\n",
       "       [22.77616204],\n",
       "       [17.35106653],\n",
       "       [18.54046999],\n",
       "       [16.36847196],\n",
       "       [21.72533915],\n",
       "       [35.71120541],\n",
       "       [21.83662056],\n",
       "       [19.76107221],\n",
       "       [24.18285088],\n",
       "       [25.5255809 ],\n",
       "       [20.8464168 ],\n",
       "       [24.53500383],\n",
       "       [23.78138462],\n",
       "       [40.86911314],\n",
       "       [40.39520996],\n",
       "       [29.63686507],\n",
       "       [12.619354  ],\n",
       "       [15.73341062],\n",
       "       [18.21178776],\n",
       "       [21.16340747],\n",
       "       [16.66802114],\n",
       "       [ 5.97334491],\n",
       "       [24.31645777],\n",
       "       [30.41975812],\n",
       "       [23.26407764],\n",
       "       [19.39240148],\n",
       "       [16.09545573],\n",
       "       [21.11256921],\n",
       "       [34.44869686],\n",
       "       [26.91553429],\n",
       "       [30.23074628],\n",
       "       [18.03371864],\n",
       "       [22.39969339],\n",
       "       [29.3639849 ],\n",
       "       [13.012578  ],\n",
       "       [35.56341078],\n",
       "       [10.91286971],\n",
       "       [13.56179599],\n",
       "       [27.60611138],\n",
       "       [31.30757803],\n",
       "       [11.07295389],\n",
       "       [24.39197327],\n",
       "       [28.74300261],\n",
       "       [32.45909463],\n",
       "       [15.73036294],\n",
       "       [30.13719482],\n",
       "       [ 7.84896909],\n",
       "       [34.49967116],\n",
       "       [25.308736  ],\n",
       "       [20.0655545 ],\n",
       "       [15.24843367],\n",
       "       [12.43138278],\n",
       "       [30.63133241],\n",
       "       [16.39957657],\n",
       "       [23.95719598],\n",
       "       [20.73701035],\n",
       "       [13.53764594],\n",
       "       [20.67956211],\n",
       "       [13.42986345],\n",
       "       [20.74559128],\n",
       "       [22.33193767],\n",
       "       [34.06935771],\n",
       "       [22.4589955 ],\n",
       "       [16.80443725],\n",
       "       [30.73371445],\n",
       "       [40.33660798],\n",
       "       [26.82012518],\n",
       "       [25.64492484],\n",
       "       [16.55295684],\n",
       "       [15.36288473],\n",
       "       [36.70017849],\n",
       "       [23.7412586 ],\n",
       "       [33.98023685],\n",
       "       [25.67911107],\n",
       "       [20.75330214],\n",
       "       [16.30873495],\n",
       "       [22.97592875],\n",
       "       [18.26061637],\n",
       "       [32.12700405],\n",
       "       [16.59865114],\n",
       "       [25.93434146],\n",
       "       [26.98201668],\n",
       "       [23.67275655],\n",
       "       [21.78893136],\n",
       "       [35.03599925],\n",
       "       [19.26492009],\n",
       "       [31.04623197],\n",
       "       [28.56931052],\n",
       "       [13.19353298],\n",
       "       [32.84236622],\n",
       "       [27.16908461],\n",
       "       [19.46817428],\n",
       "       [35.54731935],\n",
       "       [14.35733503],\n",
       "       [25.18266433],\n",
       "       [28.84354387],\n",
       "       [22.14413982],\n",
       "       [18.13432638],\n",
       "       [20.15575807],\n",
       "       [24.64159199],\n",
       "       [19.82254139],\n",
       "       [31.90587328],\n",
       "       [25.55866956],\n",
       "       [19.54858597],\n",
       "       [ 8.40674799],\n",
       "       [ 6.98237159],\n",
       "       [22.17556194],\n",
       "       [20.01496962],\n",
       "       [20.41619184],\n",
       "       [21.44730119],\n",
       "       [17.81230023],\n",
       "       [31.69051363],\n",
       "       [37.30302819],\n",
       "       [20.44885134],\n",
       "       [12.95714018],\n",
       "       [27.39459086],\n",
       "       [16.7150166 ],\n",
       "       [24.64486051],\n",
       "       [18.47045504],\n",
       "       [24.00117211],\n",
       "       [15.72744847],\n",
       "       [19.64301945],\n",
       "       [13.3047066 ],\n",
       "       [21.50166712],\n",
       "       [26.96410422],\n",
       "       [23.10270534],\n",
       "       [16.66074819],\n",
       "       [15.27661604],\n",
       "       [21.14866954],\n",
       "       [38.6955596 ],\n",
       "       [19.91486276],\n",
       "       [16.38100089],\n",
       "       [15.2616879 ],\n",
       "       [24.51693123],\n",
       "       [17.22984248],\n",
       "       [20.94579859],\n",
       "       [25.06767554],\n",
       "       [16.75033299],\n",
       "       [27.86311431],\n",
       "       [18.8104657 ],\n",
       "       [18.87948267],\n",
       "       [22.81246724],\n",
       "       [29.5612325 ],\n",
       "       [25.35706292],\n",
       "       [29.20297413],\n",
       "       [25.95334072],\n",
       "       [33.00900636],\n",
       "       [24.8484116 ],\n",
       "       [23.40495353],\n",
       "       [22.46315457],\n",
       "       [36.79425897],\n",
       "       [17.14501705],\n",
       "       [30.42468337],\n",
       "       [28.46857469],\n",
       "       [13.28955133],\n",
       "       [35.43263883],\n",
       "       [21.44058303],\n",
       "       [16.34623859],\n",
       "       [15.38046223],\n",
       "       [13.74563843],\n",
       "       [30.47807544],\n",
       "       [14.13482235],\n",
       "       [17.42168029],\n",
       "       [28.91886825],\n",
       "       [31.70750628],\n",
       "       [28.7588028 ],\n",
       "       [20.10448214],\n",
       "       [12.98233777],\n",
       "       [27.76764139],\n",
       "       [24.11538029],\n",
       "       [22.27877305],\n",
       "       [27.93347069],\n",
       "       [25.40029275],\n",
       "       [26.03732599],\n",
       "       [23.28847245],\n",
       "       [18.32809559],\n",
       "       [17.28288485],\n",
       "       [11.97889552],\n",
       "       [20.09866743],\n",
       "       [25.0106152 ],\n",
       "       [13.5916012 ],\n",
       "       [34.58936106],\n",
       "       [35.32569887],\n",
       "       [18.94899761],\n",
       "       [11.29320978],\n",
       "       [33.75214626],\n",
       "       [25.03088508],\n",
       "       [20.77454947],\n",
       "       [25.95803533],\n",
       "       [25.15581387],\n",
       "       [23.49130664],\n",
       "       [21.24354962],\n",
       "       [25.18556591],\n",
       "       [36.05223594],\n",
       "       [22.5511025 ],\n",
       "       [21.29430751],\n",
       "       [19.80618055],\n",
       "       [21.32039052],\n",
       "       [23.06324163],\n",
       "       [33.00154741],\n",
       "       [14.99537306],\n",
       "       [18.50903392],\n",
       "       [15.60511877],\n",
       "       [31.52048599],\n",
       "       [43.12505408],\n",
       "       [21.6684189 ],\n",
       "       [24.45097032],\n",
       "       [ 7.86814475],\n",
       "       [32.06847555],\n",
       "       [19.59720706],\n",
       "       [19.12888388],\n",
       "       [24.41399777],\n",
       "       [24.05132035],\n",
       "       [ 3.31245943],\n",
       "       [17.21602903],\n",
       "       [12.4012353 ],\n",
       "       [11.65277242],\n",
       "       [14.64491299],\n",
       "       [20.44883795],\n",
       "       [36.94476511],\n",
       "       [30.60096703],\n",
       "       [20.63858118],\n",
       "       [ 9.1406006 ],\n",
       "       [39.60438184],\n",
       "       [21.99300212],\n",
       "       [15.30638813],\n",
       "       [19.13128549],\n",
       "       [18.52699733],\n",
       "       [33.51837733],\n",
       "       [31.6005633 ],\n",
       "       [22.17666278],\n",
       "       [17.79330837],\n",
       "       [22.54273684],\n",
       "       [25.0141254 ],\n",
       "       [21.05196521],\n",
       "       [27.38164635],\n",
       "       [11.96928255],\n",
       "       [31.02366816],\n",
       "       [25.61968363],\n",
       "       [17.44282613],\n",
       "       [26.21100208],\n",
       "       [22.42924109],\n",
       "       [27.62830414],\n",
       "       [26.17005591],\n",
       "       [34.92072175],\n",
       "       [27.764341  ],\n",
       "       [19.0048276 ],\n",
       "       [15.26502939],\n",
       "       [19.50373965],\n",
       "       [28.86494856],\n",
       "       [25.86132294],\n",
       "       [28.4725833 ],\n",
       "       [33.17846618],\n",
       "       [19.77470325],\n",
       "       [13.92006917],\n",
       "       [32.80315989],\n",
       "       [24.61055797],\n",
       "       [29.48496822],\n",
       "       [35.50055257],\n",
       "       [11.50021788],\n",
       "       [24.03654628],\n",
       "       [23.89405603],\n",
       "       [17.35176061],\n",
       "       [39.40423714],\n",
       "       [21.50520631],\n",
       "       [26.52518903],\n",
       "       [20.52330365],\n",
       "       [25.42019937],\n",
       "       [32.63861172],\n",
       "       [18.47359612],\n",
       "       [24.89685834],\n",
       "       [34.38492208],\n",
       "       [36.97308265],\n",
       "       [ 6.36125525],\n",
       "       [17.75592101],\n",
       "       [24.92870455],\n",
       "       [13.35396762],\n",
       "       [29.00903813],\n",
       "       [36.03985143],\n",
       "       [23.05719731],\n",
       "       [14.04454814],\n",
       "       [ 9.85389963],\n",
       "       [18.1993444 ],\n",
       "       [ 2.89782873],\n",
       "       [22.47046175],\n",
       "       [12.05389054],\n",
       "       [31.01920008],\n",
       "       [ 5.58817177],\n",
       "       [11.88691242],\n",
       "       [23.05632111],\n",
       "       [23.22642146],\n",
       "       [ 7.28765294],\n",
       "       [17.8609389 ],\n",
       "       [37.93424083],\n",
       "       [25.44286616],\n",
       "       [ 0.23674996],\n",
       "       [16.68299965],\n",
       "       [13.30037005],\n",
       "       [33.46166801],\n",
       "       [29.20411455],\n",
       "       [14.64052595],\n",
       "       [23.1961805 ],\n",
       "       [32.91730096],\n",
       "       [23.05695244],\n",
       "       [28.93325733],\n",
       "       [18.95437992],\n",
       "       [19.28110519],\n",
       "       [26.86564431],\n",
       "       [20.8269357 ],\n",
       "       [17.62024482],\n",
       "       [30.09442682],\n",
       "       [28.23108304],\n",
       "       [26.79253852],\n",
       "       [11.28111966],\n",
       "       [20.83271514],\n",
       "       [20.7748432 ],\n",
       "       [27.41326091],\n",
       "       [ 5.10419946],\n",
       "       [31.26495536],\n",
       "       [12.53855183],\n",
       "       [19.53408485],\n",
       "       [40.50106282],\n",
       "       [30.74537938],\n",
       "       [12.75674735],\n",
       "       [19.37572317],\n",
       "       [37.70851068],\n",
       "       [20.04187459],\n",
       "       [16.56515446],\n",
       "       [13.05913336],\n",
       "       [33.65514295],\n",
       "       [36.39758097],\n",
       "       [ 8.04199586],\n",
       "       [18.24938213],\n",
       "       [24.18768499],\n",
       "       [25.30852113],\n",
       "       [36.65110828],\n",
       "       [27.2909252 ],\n",
       "       [21.83389564],\n",
       "       [33.0595744 ],\n",
       "       [19.58459603],\n",
       "       [24.69970856],\n",
       "       [20.43284619],\n",
       "       [ 6.2131025 ],\n",
       "       [37.52776711],\n",
       "       [25.39899264],\n",
       "       [25.46408407],\n",
       "       [20.34870558],\n",
       "       [ 8.28716137],\n",
       "       [20.10253151],\n",
       "       [21.92084355],\n",
       "       [ 7.65502998],\n",
       "       [20.61508109],\n",
       "       [27.95845536],\n",
       "       [19.5929753 ],\n",
       "       [18.78908708],\n",
       "       [19.99862211],\n",
       "       [24.03844999],\n",
       "       [15.42624324],\n",
       "       [21.9945165 ],\n",
       "       [21.95498592],\n",
       "       [16.90573762],\n",
       "       [10.69747547],\n",
       "       [17.60663128],\n",
       "       [30.70968973],\n",
       "       [42.02867268],\n",
       "       [22.64978532],\n",
       "       [22.85605516],\n",
       "       [14.05412745],\n",
       "       [28.47138409],\n",
       "       [ 7.52754624],\n",
       "       [20.32081761],\n",
       "       [10.30688791],\n",
       "       [43.17340064],\n",
       "       [18.98859351],\n",
       "       [23.11374722],\n",
       "       [29.1535879 ],\n",
       "       [20.51027575],\n",
       "       [15.66750662],\n",
       "       [17.86741022],\n",
       "       [33.32578132],\n",
       "       [35.46450808],\n",
       "       [10.41598041],\n",
       "       [23.84824464],\n",
       "       [11.27287412],\n",
       "       [19.99921263],\n",
       "       [20.00313523],\n",
       "       [34.47458202],\n",
       "       [16.69169394],\n",
       "       [23.46177882],\n",
       "       [16.9598102 ]])"
      ]
     },
     "execution_count": 21,
     "metadata": {},
     "output_type": "execute_result"
    }
   ],
   "source": [
    "y_train_predicted = linreg.predict(x_train)\n",
    "y_train_predicted"
   ]
  },
  {
   "cell_type": "code",
   "execution_count": 22,
   "metadata": {},
   "outputs": [
    {
     "data": {
      "text/plain": [
       "array([[37.56311787],\n",
       "       [32.14445143],\n",
       "       [27.06573629],\n",
       "       [ 5.67080633],\n",
       "       [35.09982577],\n",
       "       [ 5.85803701],\n",
       "       [27.53708506],\n",
       "       [31.81019188],\n",
       "       [26.35634771],\n",
       "       [22.77208748],\n",
       "       [31.91183048],\n",
       "       [21.50224061],\n",
       "       [23.70119983],\n",
       "       [33.3622504 ],\n",
       "       [28.51633591],\n",
       "       [14.39456899],\n",
       "       [ 0.19284025],\n",
       "       [18.66247155],\n",
       "       [13.71004139],\n",
       "       [14.13408635],\n",
       "       [ 2.03263952],\n",
       "       [19.7280831 ],\n",
       "       [38.18657429],\n",
       "       [24.19760058],\n",
       "       [31.30247973],\n",
       "       [11.14144544],\n",
       "       [25.03636951],\n",
       "       [23.27970871],\n",
       "       [22.49420127],\n",
       "       [20.52972594],\n",
       "       [15.16513744],\n",
       "       [ 6.92553586],\n",
       "       [18.3557733 ],\n",
       "       [22.37179804],\n",
       "       [28.91287973],\n",
       "       [19.02980786],\n",
       "       [30.19357214],\n",
       "       [ 8.74384915],\n",
       "       [40.86691522],\n",
       "       [34.53763591],\n",
       "       [20.70224878],\n",
       "       [ 2.59618963],\n",
       "       [29.99590282],\n",
       "       [12.15704798],\n",
       "       [27.10186397],\n",
       "       [30.8052437 ],\n",
       "       [-6.24169079],\n",
       "       [19.84885777],\n",
       "       [20.92973441],\n",
       "       [12.43523958],\n",
       "       [20.4949947 ],\n",
       "       [19.19231742],\n",
       "       [23.69073157],\n",
       "       [12.67998473],\n",
       "       [17.14252424],\n",
       "       [25.04649176],\n",
       "       [34.77758126],\n",
       "       [15.23294903],\n",
       "       [28.22306193],\n",
       "       [21.08745388],\n",
       "       [20.39506129],\n",
       "       [25.79476888],\n",
       "       [14.72463673],\n",
       "       [33.18635032],\n",
       "       [23.17771307],\n",
       "       [13.11057248],\n",
       "       [19.23154617],\n",
       "       [24.61162961],\n",
       "       [21.50327036],\n",
       "       [22.00419172],\n",
       "       [20.5900874 ],\n",
       "       [27.19709085],\n",
       "       [16.86361523],\n",
       "       [18.92610238],\n",
       "       [20.62344917],\n",
       "       [25.73255665],\n",
       "       [22.03855586],\n",
       "       [14.51899949],\n",
       "       [34.3918044 ],\n",
       "       [18.5369776 ],\n",
       "       [23.38945015],\n",
       "       [41.36132839],\n",
       "       [23.27134886],\n",
       "       [15.62340913],\n",
       "       [25.69729854],\n",
       "       [17.16406313],\n",
       "       [18.5066679 ],\n",
       "       [10.04976469],\n",
       "       [18.99779955],\n",
       "       [17.02528993],\n",
       "       [35.707325  ],\n",
       "       [17.50855206],\n",
       "       [22.16184894],\n",
       "       [19.26215663],\n",
       "       [24.16777784],\n",
       "       [27.80472748],\n",
       "       [12.42828948],\n",
       "       [21.91295599],\n",
       "       [22.39477399],\n",
       "       [13.19335364],\n",
       "       [23.96991103],\n",
       "       [21.19914699]])"
      ]
     },
     "execution_count": 22,
     "metadata": {},
     "output_type": "execute_result"
    }
   ],
   "source": [
    "y_test_predicted = linreg.predict(x_test)\n",
    "y_test_predicted"
   ]
  },
  {
   "cell_type": "markdown",
   "metadata": {},
   "source": [
    "## 3. Calculate and print R-squared for both the training and the testing set."
   ]
  },
  {
   "cell_type": "code",
   "execution_count": 26,
   "metadata": {},
   "outputs": [
    {
     "data": {
      "text/plain": [
       "0.738339392059052"
      ]
     },
     "execution_count": 26,
     "metadata": {},
     "output_type": "execute_result"
    }
   ],
   "source": [
    "from sklearn import metrics \n",
    "\n",
    "metrics.r2_score(y_train, y_train_predicted)"
   ]
  },
  {
   "cell_type": "code",
   "execution_count": 27,
   "metadata": {},
   "outputs": [
    {
     "data": {
      "text/plain": [
       "0.7334492147453064"
      ]
     },
     "execution_count": 27,
     "metadata": {},
     "output_type": "execute_result"
    }
   ],
   "source": [
    "metrics.r2_score(y_test, y_test_predicted)"
   ]
  },
  {
   "cell_type": "markdown",
   "metadata": {},
   "source": [
    "## 4. Calculate and print mean squared error for both the training and the testing set."
   ]
  },
  {
   "cell_type": "code",
   "execution_count": 28,
   "metadata": {},
   "outputs": [
    {
     "data": {
      "text/plain": [
       "22.477090408387628"
      ]
     },
     "execution_count": 28,
     "metadata": {},
     "output_type": "execute_result"
    }
   ],
   "source": [
    "metrics.mean_squared_error(y_train, y_train_predicted)"
   ]
  },
  {
   "cell_type": "code",
   "execution_count": 29,
   "metadata": {},
   "outputs": [
    {
     "data": {
      "text/plain": [
       "20.869292183770906"
      ]
     },
     "execution_count": 29,
     "metadata": {},
     "output_type": "execute_result"
    }
   ],
   "source": [
    "metrics.mean_squared_error(y_test, y_test_predicted)"
   ]
  },
  {
   "cell_type": "markdown",
   "metadata": {},
   "source": [
    "## 5. Calculate and print mean absolute error for both the training and the testing set."
   ]
  },
  {
   "cell_type": "code",
   "execution_count": 31,
   "metadata": {},
   "outputs": [
    {
     "data": {
      "text/plain": [
       "3.3500095196484514"
      ]
     },
     "execution_count": 31,
     "metadata": {},
     "output_type": "execute_result"
    }
   ],
   "source": [
    "metrics.mean_absolute_error(y_train, y_train_predicted)"
   ]
  },
  {
   "cell_type": "code",
   "execution_count": 32,
   "metadata": {},
   "outputs": [
    {
     "data": {
      "text/plain": [
       "3.2132704958423837"
      ]
     },
     "execution_count": 32,
     "metadata": {},
     "output_type": "execute_result"
    }
   ],
   "source": [
    "metrics.mean_absolute_error(y_test, y_test_predicted)"
   ]
  },
  {
   "cell_type": "markdown",
   "metadata": {},
   "source": [
    "## Classification Model Evaluation"
   ]
  },
  {
   "cell_type": "code",
   "execution_count": 33,
   "metadata": {},
   "outputs": [],
   "source": [
    "from sklearn.datasets import load_iris\n",
    "\n",
    "data = load_iris()\n",
    "\n",
    "X = pd.DataFrame(data[\"data\"], columns=data[\"feature_names\"])\n",
    "y = pd.DataFrame(data[\"target\"], columns=[\"class\"])\n",
    "\n",
    "data = pd.concat([X, y], axis=1)"
   ]
  },
  {
   "cell_type": "code",
   "execution_count": 95,
   "metadata": {},
   "outputs": [
    {
     "name": "stdout",
     "output_type": "stream",
     "text": [
      ".. _iris_dataset:\n",
      "\n",
      "Iris plants dataset\n",
      "--------------------\n",
      "\n",
      "**Data Set Characteristics:**\n",
      "\n",
      "    :Number of Instances: 150 (50 in each of three classes)\n",
      "    :Number of Attributes: 4 numeric, predictive attributes and the class\n",
      "    :Attribute Information:\n",
      "        - sepal length in cm\n",
      "        - sepal width in cm\n",
      "        - petal length in cm\n",
      "        - petal width in cm\n",
      "        - class:\n",
      "                - Iris-Setosa\n",
      "                - Iris-Versicolour\n",
      "                - Iris-Virginica\n",
      "                \n",
      "    :Summary Statistics:\n",
      "\n",
      "    ============== ==== ==== ======= ===== ====================\n",
      "                    Min  Max   Mean    SD   Class Correlation\n",
      "    ============== ==== ==== ======= ===== ====================\n",
      "    sepal length:   4.3  7.9   5.84   0.83    0.7826\n",
      "    sepal width:    2.0  4.4   3.05   0.43   -0.4194\n",
      "    petal length:   1.0  6.9   3.76   1.76    0.9490  (high!)\n",
      "    petal width:    0.1  2.5   1.20   0.76    0.9565  (high!)\n",
      "    ============== ==== ==== ======= ===== ====================\n",
      "\n",
      "    :Missing Attribute Values: None\n",
      "    :Class Distribution: 33.3% for each of 3 classes.\n",
      "    :Creator: R.A. Fisher\n",
      "    :Donor: Michael Marshall (MARSHALL%PLU@io.arc.nasa.gov)\n",
      "    :Date: July, 1988\n",
      "\n",
      "The famous Iris database, first used by Sir R.A. Fisher. The dataset is taken\n",
      "from Fisher's paper. Note that it's the same as in R, but not as in the UCI\n",
      "Machine Learning Repository, which has two wrong data points.\n",
      "\n",
      "This is perhaps the best known database to be found in the\n",
      "pattern recognition literature.  Fisher's paper is a classic in the field and\n",
      "is referenced frequently to this day.  (See Duda & Hart, for example.)  The\n",
      "data set contains 3 classes of 50 instances each, where each class refers to a\n",
      "type of iris plant.  One class is linearly separable from the other 2; the\n",
      "latter are NOT linearly separable from each other.\n",
      "\n",
      ".. topic:: References\n",
      "\n",
      "   - Fisher, R.A. \"The use of multiple measurements in taxonomic problems\"\n",
      "     Annual Eugenics, 7, Part II, 179-188 (1936); also in \"Contributions to\n",
      "     Mathematical Statistics\" (John Wiley, NY, 1950).\n",
      "   - Duda, R.O., & Hart, P.E. (1973) Pattern Classification and Scene Analysis.\n",
      "     (Q327.D83) John Wiley & Sons.  ISBN 0-471-22361-1.  See page 218.\n",
      "   - Dasarathy, B.V. (1980) \"Nosing Around the Neighborhood: A New System\n",
      "     Structure and Classification Rule for Recognition in Partially Exposed\n",
      "     Environments\".  IEEE Transactions on Pattern Analysis and Machine\n",
      "     Intelligence, Vol. PAMI-2, No. 1, 67-71.\n",
      "   - Gates, G.W. (1972) \"The Reduced Nearest Neighbor Rule\".  IEEE Transactions\n",
      "     on Information Theory, May 1972, 431-433.\n",
      "   - See also: 1988 MLC Proceedings, 54-64.  Cheeseman et al\"s AUTOCLASS II\n",
      "     conceptual clustering system finds 3 classes in the data.\n",
      "   - Many, many more ...\n"
     ]
    }
   ],
   "source": [
    "iris = load_iris()\n",
    "print(iris.DESCR)"
   ]
  },
  {
   "cell_type": "markdown",
   "metadata": {},
   "source": [
    "## 6. Split this data set into training (80%) and testing (20%) sets.\n",
    "\n",
    "The `class` field represents the type of flower and is the target variable that we will want to predict."
   ]
  },
  {
   "cell_type": "code",
   "execution_count": 55,
   "metadata": {},
   "outputs": [],
   "source": [
    "#Entrenamiento de prueba \n",
    "\n",
    "x = data.drop('class', axis = 1)\n",
    "y = data['class']\n",
    "\n",
    "x_train, x_test, y_train, y_test = train_test_split(x, y, test_size = .2, random_state = 5)"
   ]
  },
  {
   "cell_type": "markdown",
   "metadata": {},
   "source": [
    "## 7. Train a `LogisticRegression` model on this data set and generate predictions on both the training and the testing set."
   ]
  },
  {
   "cell_type": "code",
   "execution_count": 56,
   "metadata": {},
   "outputs": [
    {
     "data": {
      "text/plain": [
       "LogisticRegression(max_iter=200, solver='liblinear')"
      ]
     },
     "execution_count": 56,
     "metadata": {},
     "output_type": "execute_result"
    }
   ],
   "source": [
    "from sklearn.linear_model import LogisticRegression\n",
    "\n",
    "clf = LogisticRegression(solver = 'liblinear', max_iter = 200)\n",
    "clf.fit(x_train,y_train)"
   ]
  },
  {
   "cell_type": "code",
   "execution_count": 59,
   "metadata": {},
   "outputs": [
    {
     "data": {
      "text/plain": [
       "array([0, 1, 1, 0, 1, 0, 0, 2, 0, 2, 2, 1, 0, 0, 1, 2, 1, 2, 2, 0, 2, 0,\n",
       "       0, 0, 0, 1, 2, 1, 1, 2, 1, 2, 2, 1, 0, 1, 0, 1, 2, 1, 2, 1, 2, 1,\n",
       "       1, 1, 2, 1, 0, 2, 0, 0, 2, 0, 0, 2, 1, 0, 2, 0, 2, 1, 0, 0, 2, 2,\n",
       "       1, 0, 0, 2, 1, 1, 0, 1, 2, 1, 0, 1, 2, 2, 2, 2, 0, 0, 2, 2, 0, 1,\n",
       "       0, 0, 2, 1, 2, 0, 2, 0, 2, 0, 1, 0, 2, 1, 0, 2, 2, 2, 1, 0, 1, 0,\n",
       "       0, 1, 2, 0, 2, 0, 1, 2, 2, 1])"
      ]
     },
     "execution_count": 59,
     "metadata": {},
     "output_type": "execute_result"
    }
   ],
   "source": [
    "y_train_predicted = clf.predict(x_train)\n",
    "y_train_predicted"
   ]
  },
  {
   "cell_type": "code",
   "execution_count": 60,
   "metadata": {},
   "outputs": [
    {
     "data": {
      "text/plain": [
       "array([1, 2, 2, 0, 2, 1, 0, 2, 0, 2, 2, 2, 2, 2, 0, 0, 2, 2, 0, 0, 1, 2,\n",
       "       0, 1, 1, 2, 1, 1, 1, 2])"
      ]
     },
     "execution_count": 60,
     "metadata": {},
     "output_type": "execute_result"
    }
   ],
   "source": [
    "y_test_predicted = clf.predict(x_test)\n",
    "y_test_predicted "
   ]
  },
  {
   "cell_type": "markdown",
   "metadata": {},
   "source": [
    "## 8. Calculate and print the accuracy score for both the training and the testing set."
   ]
  },
  {
   "cell_type": "code",
   "execution_count": 62,
   "metadata": {},
   "outputs": [
    {
     "data": {
      "text/plain": [
       "0.9"
      ]
     },
     "execution_count": 62,
     "metadata": {},
     "output_type": "execute_result"
    }
   ],
   "source": [
    "from sklearn.metrics import accuracy_score\n",
    "\n",
    "accuracy_test = accuracy_score(y_test, y_test_predicted)\n",
    "accuracy_test"
   ]
  },
  {
   "cell_type": "code",
   "execution_count": 63,
   "metadata": {},
   "outputs": [
    {
     "data": {
      "text/plain": [
       "0.9583333333333334"
      ]
     },
     "execution_count": 63,
     "metadata": {},
     "output_type": "execute_result"
    }
   ],
   "source": [
    "accuracy_train = accuracy_score(y_train, y_train_predicted)\n",
    "accuracy_train"
   ]
  },
  {
   "cell_type": "markdown",
   "metadata": {},
   "source": [
    "## 9. Calculate and print the balanced accuracy score for both the training and the testing set."
   ]
  },
  {
   "cell_type": "code",
   "execution_count": 65,
   "metadata": {},
   "outputs": [
    {
     "data": {
      "text/plain": [
       "0.9090909090909092"
      ]
     },
     "execution_count": 65,
     "metadata": {},
     "output_type": "execute_result"
    }
   ],
   "source": [
    "from sklearn.metrics import balanced_accuracy_score\n",
    "\n",
    "balanced_accuracy_test = balanced_accuracy_score(y_test, y_test_predicted)\n",
    "balanced_accuracy_test"
   ]
  },
  {
   "cell_type": "code",
   "execution_count": 66,
   "metadata": {},
   "outputs": [
    {
     "data": {
      "text/plain": [
       "0.9572649572649573"
      ]
     },
     "execution_count": 66,
     "metadata": {},
     "output_type": "execute_result"
    }
   ],
   "source": [
    "balanced_accuracy_train = balanced_accuracy_score(y_train, y_train_predicted)\n",
    "balanced_accuracy_train"
   ]
  },
  {
   "cell_type": "markdown",
   "metadata": {},
   "source": [
    "## 10. Calculate and print the precision score for both the training and the testing set."
   ]
  },
  {
   "cell_type": "code",
   "execution_count": 70,
   "metadata": {},
   "outputs": [
    {
     "data": {
      "text/plain": [
       "0.9600198412698411"
      ]
     },
     "execution_count": 70,
     "metadata": {},
     "output_type": "execute_result"
    }
   ],
   "source": [
    "from sklearn.metrics import precision_score\n",
    "\n",
    "precision_score_train = precision_score(y_train, y_train_predicted, average = 'weighted')\n",
    "precision_score_train"
   ]
  },
  {
   "cell_type": "code",
   "execution_count": 72,
   "metadata": {},
   "outputs": [
    {
     "data": {
      "text/plain": [
       "0.958994708994709"
      ]
     },
     "execution_count": 72,
     "metadata": {},
     "output_type": "execute_result"
    }
   ],
   "source": [
    "precision_score_train = precision_score(y_train, y_train_predicted, average = 'macro')\n",
    "precision_score_train"
   ]
  },
  {
   "cell_type": "code",
   "execution_count": 73,
   "metadata": {},
   "outputs": [
    {
     "data": {
      "text/plain": [
       "0.9583333333333334"
      ]
     },
     "execution_count": 73,
     "metadata": {},
     "output_type": "execute_result"
    }
   ],
   "source": [
    "precision_score_train = precision_score(y_train, y_train_predicted, average = 'micro')\n",
    "precision_score_train"
   ]
  },
  {
   "cell_type": "code",
   "execution_count": 71,
   "metadata": {},
   "outputs": [
    {
     "data": {
      "text/plain": [
       "0.9214285714285714"
      ]
     },
     "execution_count": 71,
     "metadata": {},
     "output_type": "execute_result"
    }
   ],
   "source": [
    "precision_score_test = precision_score(y_test, y_test_predicted, average = 'weighted')\n",
    "precision_score_test"
   ]
  },
  {
   "cell_type": "code",
   "execution_count": 74,
   "metadata": {},
   "outputs": [
    {
     "data": {
      "text/plain": [
       "0.9285714285714285"
      ]
     },
     "execution_count": 74,
     "metadata": {},
     "output_type": "execute_result"
    }
   ],
   "source": [
    "precision_score_test = precision_score(y_test, y_test_predicted, average = 'macro')\n",
    "precision_score_test"
   ]
  },
  {
   "cell_type": "code",
   "execution_count": 75,
   "metadata": {},
   "outputs": [
    {
     "data": {
      "text/plain": [
       "0.9"
      ]
     },
     "execution_count": 75,
     "metadata": {},
     "output_type": "execute_result"
    }
   ],
   "source": [
    "precision_score_test = precision_score(y_test, y_test_predicted, average = 'micro')\n",
    "precision_score_test"
   ]
  },
  {
   "cell_type": "markdown",
   "metadata": {},
   "source": [
    "## 11. Calculate and print the recall score for both the training and the testing set."
   ]
  },
  {
   "cell_type": "code",
   "execution_count": 77,
   "metadata": {},
   "outputs": [
    {
     "data": {
      "text/plain": [
       "0.9"
      ]
     },
     "execution_count": 77,
     "metadata": {},
     "output_type": "execute_result"
    }
   ],
   "source": [
    "from sklearn.metrics import recall_score\n",
    "\n",
    "recall_score_test = recall_score(y_test, y_test_predicted, average = 'weighted')\n",
    "recall_score_test"
   ]
  },
  {
   "cell_type": "code",
   "execution_count": 78,
   "metadata": {},
   "outputs": [
    {
     "data": {
      "text/plain": [
       "0.9090909090909092"
      ]
     },
     "execution_count": 78,
     "metadata": {},
     "output_type": "execute_result"
    }
   ],
   "source": [
    "recall_score_test = recall_score(y_test, y_test_predicted, average = 'macro')\n",
    "recall_score_test"
   ]
  },
  {
   "cell_type": "code",
   "execution_count": 79,
   "metadata": {},
   "outputs": [
    {
     "data": {
      "text/plain": [
       "0.9"
      ]
     },
     "execution_count": 79,
     "metadata": {},
     "output_type": "execute_result"
    }
   ],
   "source": [
    "recall_score_test = recall_score(y_test, y_test_predicted, average = 'micro')\n",
    "recall_score_test"
   ]
  },
  {
   "cell_type": "code",
   "execution_count": 81,
   "metadata": {},
   "outputs": [
    {
     "data": {
      "text/plain": [
       "0.9583333333333334"
      ]
     },
     "execution_count": 81,
     "metadata": {},
     "output_type": "execute_result"
    }
   ],
   "source": [
    "recall_score_train = recall_score(y_train, y_train_predicted, average = 'weighted')\n",
    "recall_score_train"
   ]
  },
  {
   "cell_type": "code",
   "execution_count": 82,
   "metadata": {},
   "outputs": [
    {
     "data": {
      "text/plain": [
       "0.9572649572649573"
      ]
     },
     "execution_count": 82,
     "metadata": {},
     "output_type": "execute_result"
    }
   ],
   "source": [
    "recall_score_train = recall_score(y_train, y_train_predicted, average = 'macro')\n",
    "recall_score_train"
   ]
  },
  {
   "cell_type": "code",
   "execution_count": 83,
   "metadata": {},
   "outputs": [
    {
     "data": {
      "text/plain": [
       "0.9583333333333334"
      ]
     },
     "execution_count": 83,
     "metadata": {},
     "output_type": "execute_result"
    }
   ],
   "source": [
    "recall_score_train = recall_score(y_train, y_train_predicted, average = 'micro')\n",
    "recall_score_train"
   ]
  },
  {
   "cell_type": "markdown",
   "metadata": {},
   "source": [
    "## 12. Calculate and print the F1 score for both the training and the testing set."
   ]
  },
  {
   "cell_type": "code",
   "execution_count": 84,
   "metadata": {},
   "outputs": [
    {
     "data": {
      "text/plain": [
       "0.8981052631578947"
      ]
     },
     "execution_count": 84,
     "metadata": {},
     "output_type": "execute_result"
    }
   ],
   "source": [
    "from sklearn.metrics import f1_score\n",
    "\n",
    "f1_score_test = f1_score(y_test, y_test_predicted, average = 'weighted')\n",
    "f1_score_test"
   ]
  },
  {
   "cell_type": "code",
   "execution_count": 85,
   "metadata": {},
   "outputs": [
    {
     "data": {
      "text/plain": [
       "0.9073684210526315"
      ]
     },
     "execution_count": 85,
     "metadata": {},
     "output_type": "execute_result"
    }
   ],
   "source": [
    "f1_score_test = f1_score(y_test, y_test_predicted, average = 'macro')\n",
    "f1_score_test"
   ]
  },
  {
   "cell_type": "code",
   "execution_count": 86,
   "metadata": {},
   "outputs": [
    {
     "data": {
      "text/plain": [
       "0.9"
      ]
     },
     "execution_count": 86,
     "metadata": {},
     "output_type": "execute_result"
    }
   ],
   "source": [
    "f1_score_test = f1_score(y_test, y_test_predicted, average = 'micro')\n",
    "f1_score_test"
   ]
  },
  {
   "cell_type": "code",
   "execution_count": 87,
   "metadata": {},
   "outputs": [
    {
     "data": {
      "text/plain": [
       "0.9582716049382716"
      ]
     },
     "execution_count": 87,
     "metadata": {},
     "output_type": "execute_result"
    }
   ],
   "source": [
    "f1_score_train = f1_score(y_train, y_train_predicted, average = 'weighted')\n",
    "f1_score_train"
   ]
  },
  {
   "cell_type": "code",
   "execution_count": 88,
   "metadata": {},
   "outputs": [
    {
     "data": {
      "text/plain": [
       "0.9572016460905349"
      ]
     },
     "execution_count": 88,
     "metadata": {},
     "output_type": "execute_result"
    }
   ],
   "source": [
    "f1_score_train = f1_score(y_train, y_train_predicted, average = 'macro')\n",
    "f1_score_train"
   ]
  },
  {
   "cell_type": "code",
   "execution_count": 89,
   "metadata": {},
   "outputs": [
    {
     "data": {
      "text/plain": [
       "0.9583333333333334"
      ]
     },
     "execution_count": 89,
     "metadata": {},
     "output_type": "execute_result"
    }
   ],
   "source": [
    "f1_score_train = f1_score(y_train, y_train_predicted, average = 'micro')\n",
    "f1_score_train"
   ]
  },
  {
   "cell_type": "markdown",
   "metadata": {},
   "source": [
    "## 13. Generate confusion matrices for both the training and the testing set."
   ]
  },
  {
   "cell_type": "code",
   "execution_count": 96,
   "metadata": {},
   "outputs": [
    {
     "data": {
      "text/html": [
       "<div>\n",
       "<style scoped>\n",
       "    .dataframe tbody tr th:only-of-type {\n",
       "        vertical-align: middle;\n",
       "    }\n",
       "\n",
       "    .dataframe tbody tr th {\n",
       "        vertical-align: top;\n",
       "    }\n",
       "\n",
       "    .dataframe thead th {\n",
       "        text-align: right;\n",
       "    }\n",
       "</style>\n",
       "<table border=\"1\" class=\"dataframe\">\n",
       "  <thead>\n",
       "    <tr style=\"text-align: right;\">\n",
       "      <th></th>\n",
       "      <th>Setosa</th>\n",
       "      <th>Versicolour</th>\n",
       "      <th>Virginica</th>\n",
       "    </tr>\n",
       "  </thead>\n",
       "  <tbody>\n",
       "    <tr>\n",
       "      <th>Setosa</th>\n",
       "      <td>42</td>\n",
       "      <td>0</td>\n",
       "      <td>0</td>\n",
       "    </tr>\n",
       "    <tr>\n",
       "      <th>Versicolour</th>\n",
       "      <td>0</td>\n",
       "      <td>35</td>\n",
       "      <td>4</td>\n",
       "    </tr>\n",
       "    <tr>\n",
       "      <th>Virginica</th>\n",
       "      <td>0</td>\n",
       "      <td>1</td>\n",
       "      <td>38</td>\n",
       "    </tr>\n",
       "  </tbody>\n",
       "</table>\n",
       "</div>"
      ],
      "text/plain": [
       "             Setosa  Versicolour  Virginica\n",
       "Setosa           42            0          0\n",
       "Versicolour       0           35          4\n",
       "Virginica         0            1         38"
      ]
     },
     "execution_count": 96,
     "metadata": {},
     "output_type": "execute_result"
    }
   ],
   "source": [
    "from sklearn.metrics import confusion_matrix\n",
    "\n",
    "matriz_confusion_train = pd.DataFrame(metrics.confusion_matrix(y_train, y_train_predicted), index = ['Setosa', 'Versicolour', 'Virginica'], columns = ['Setosa', 'Versicolour', 'Virginica'])\n",
    "matriz_confusion_train"
   ]
  },
  {
   "cell_type": "code",
   "execution_count": 97,
   "metadata": {},
   "outputs": [
    {
     "data": {
      "text/html": [
       "<div>\n",
       "<style scoped>\n",
       "    .dataframe tbody tr th:only-of-type {\n",
       "        vertical-align: middle;\n",
       "    }\n",
       "\n",
       "    .dataframe tbody tr th {\n",
       "        vertical-align: top;\n",
       "    }\n",
       "\n",
       "    .dataframe thead th {\n",
       "        text-align: right;\n",
       "    }\n",
       "</style>\n",
       "<table border=\"1\" class=\"dataframe\">\n",
       "  <thead>\n",
       "    <tr style=\"text-align: right;\">\n",
       "      <th></th>\n",
       "      <th>Setosa</th>\n",
       "      <th>Versicolour</th>\n",
       "      <th>Virginica</th>\n",
       "    </tr>\n",
       "  </thead>\n",
       "  <tbody>\n",
       "    <tr>\n",
       "      <th>Setosa</th>\n",
       "      <td>8</td>\n",
       "      <td>0</td>\n",
       "      <td>0</td>\n",
       "    </tr>\n",
       "    <tr>\n",
       "      <th>Versicolour</th>\n",
       "      <td>0</td>\n",
       "      <td>8</td>\n",
       "      <td>3</td>\n",
       "    </tr>\n",
       "    <tr>\n",
       "      <th>Virginica</th>\n",
       "      <td>0</td>\n",
       "      <td>0</td>\n",
       "      <td>11</td>\n",
       "    </tr>\n",
       "  </tbody>\n",
       "</table>\n",
       "</div>"
      ],
      "text/plain": [
       "             Setosa  Versicolour  Virginica\n",
       "Setosa            8            0          0\n",
       "Versicolour       0            8          3\n",
       "Virginica         0            0         11"
      ]
     },
     "execution_count": 97,
     "metadata": {},
     "output_type": "execute_result"
    }
   ],
   "source": [
    "matriz_confusion_test = pd.DataFrame(metrics.confusion_matrix(y_test, y_test_predicted), index = ['Setosa', 'Versicolour', 'Virginica'], columns = ['Setosa', 'Versicolour', 'Virginica'])\n",
    "matriz_confusion_test"
   ]
  },
  {
   "cell_type": "markdown",
   "metadata": {},
   "source": [
    "## Bonus: For each of the data sets in this lab, try training with some of the other models you have learned about, recalculate the evaluation metrics, and compare to determine which models perform best on each data set."
   ]
  },
  {
   "cell_type": "code",
   "execution_count": 111,
   "metadata": {},
   "outputs": [
    {
     "data": {
      "text/plain": [
       "KNeighborsClassifier(n_neighbors=3)"
      ]
     },
     "execution_count": 111,
     "metadata": {},
     "output_type": "execute_result"
    }
   ],
   "source": [
    "from sklearn import neighbors, datasets\n",
    "\n",
    "classifier = neighbors.KNeighborsClassifier(n_neighbors = 3)\n",
    "classifier.fit(x_train,y_train)"
   ]
  },
  {
   "cell_type": "code",
   "execution_count": 112,
   "metadata": {},
   "outputs": [
    {
     "data": {
      "text/plain": [
       "array([0, 1, 1, 0, 1, 0, 0, 2, 0, 2, 2, 1, 0, 0, 1, 2, 1, 2, 2, 0, 2, 0,\n",
       "       0, 0, 0, 1, 1, 1, 1, 2, 1, 2, 2, 1, 0, 1, 0, 1, 2, 1, 2, 1, 2, 1,\n",
       "       1, 1, 2, 1, 0, 2, 0, 0, 1, 0, 0, 2, 1, 0, 2, 0, 1, 1, 0, 0, 2, 1,\n",
       "       1, 0, 0, 2, 1, 1, 0, 1, 2, 1, 0, 1, 2, 2, 2, 2, 0, 0, 2, 2, 0, 1,\n",
       "       0, 0, 2, 1, 2, 0, 2, 0, 2, 0, 1, 0, 2, 2, 0, 1, 2, 2, 1, 0, 1, 0,\n",
       "       0, 1, 2, 0, 2, 0, 1, 2, 2, 1])"
      ]
     },
     "execution_count": 112,
     "metadata": {},
     "output_type": "execute_result"
    }
   ],
   "source": [
    "y_train_predicted = classifier.predict(x_train)\n",
    "y_train_predicted "
   ]
  },
  {
   "cell_type": "code",
   "execution_count": 113,
   "metadata": {},
   "outputs": [
    {
     "data": {
      "text/plain": [
       "array([1, 2, 2, 0, 2, 1, 0, 2, 0, 1, 1, 2, 2, 2, 0, 0, 2, 2, 0, 0, 1, 2,\n",
       "       0, 2, 1, 2, 1, 1, 1, 2])"
      ]
     },
     "execution_count": 113,
     "metadata": {},
     "output_type": "execute_result"
    }
   ],
   "source": [
    "y_test_predicted = classifier.predict(x_test)\n",
    "y_test_predicted"
   ]
  },
  {
   "cell_type": "code",
   "execution_count": 114,
   "metadata": {},
   "outputs": [
    {
     "data": {
      "text/plain": [
       "0.975"
      ]
     },
     "execution_count": 114,
     "metadata": {},
     "output_type": "execute_result"
    }
   ],
   "source": [
    "accuracy_train = accuracy_score(y_train, y_train_predicted)\n",
    "accuracy_train"
   ]
  },
  {
   "cell_type": "code",
   "execution_count": 115,
   "metadata": {},
   "outputs": [
    {
     "data": {
      "text/plain": [
       "0.9333333333333333"
      ]
     },
     "execution_count": 115,
     "metadata": {},
     "output_type": "execute_result"
    }
   ],
   "source": [
    "accuracy_test = accuracy_score(y_test, y_test_predicted)\n",
    "accuracy_test"
   ]
  },
  {
   "cell_type": "code",
   "execution_count": 116,
   "metadata": {},
   "outputs": [
    {
     "data": {
      "text/plain": [
       "0.9743589743589745"
      ]
     },
     "execution_count": 116,
     "metadata": {},
     "output_type": "execute_result"
    }
   ],
   "source": [
    "balanced_accuracy_train = balanced_accuracy_score(y_train, y_train_predicted)\n",
    "balanced_accuracy_train"
   ]
  },
  {
   "cell_type": "code",
   "execution_count": 117,
   "metadata": {},
   "outputs": [
    {
     "data": {
      "text/plain": [
       "0.9393939393939394"
      ]
     },
     "execution_count": 117,
     "metadata": {},
     "output_type": "execute_result"
    }
   ],
   "source": [
    "balanced_accuracy_test = balanced_accuracy_score(y_test, y_test_predicted)\n",
    "balanced_accuracy_test"
   ]
  },
  {
   "cell_type": "code",
   "execution_count": 118,
   "metadata": {},
   "outputs": [
    {
     "data": {
      "text/html": [
       "<div>\n",
       "<style scoped>\n",
       "    .dataframe tbody tr th:only-of-type {\n",
       "        vertical-align: middle;\n",
       "    }\n",
       "\n",
       "    .dataframe tbody tr th {\n",
       "        vertical-align: top;\n",
       "    }\n",
       "\n",
       "    .dataframe thead th {\n",
       "        text-align: right;\n",
       "    }\n",
       "</style>\n",
       "<table border=\"1\" class=\"dataframe\">\n",
       "  <thead>\n",
       "    <tr style=\"text-align: right;\">\n",
       "      <th></th>\n",
       "      <th>Setosa</th>\n",
       "      <th>Versicolour</th>\n",
       "      <th>Virginica</th>\n",
       "    </tr>\n",
       "  </thead>\n",
       "  <tbody>\n",
       "    <tr>\n",
       "      <th>Setosa</th>\n",
       "      <td>42</td>\n",
       "      <td>0</td>\n",
       "      <td>0</td>\n",
       "    </tr>\n",
       "    <tr>\n",
       "      <th>Versicolour</th>\n",
       "      <td>0</td>\n",
       "      <td>38</td>\n",
       "      <td>1</td>\n",
       "    </tr>\n",
       "    <tr>\n",
       "      <th>Virginica</th>\n",
       "      <td>0</td>\n",
       "      <td>2</td>\n",
       "      <td>37</td>\n",
       "    </tr>\n",
       "  </tbody>\n",
       "</table>\n",
       "</div>"
      ],
      "text/plain": [
       "             Setosa  Versicolour  Virginica\n",
       "Setosa           42            0          0\n",
       "Versicolour       0           38          1\n",
       "Virginica         0            2         37"
      ]
     },
     "execution_count": 118,
     "metadata": {},
     "output_type": "execute_result"
    }
   ],
   "source": [
    "matriz_confusion_train = pd.DataFrame(metrics.confusion_matrix(y_train, y_train_predicted), index = ['Setosa', 'Versicolour', 'Virginica'], columns = ['Setosa', 'Versicolour', 'Virginica'])\n",
    "matriz_confusion_train"
   ]
  },
  {
   "cell_type": "code",
   "execution_count": 119,
   "metadata": {},
   "outputs": [
    {
     "data": {
      "text/html": [
       "<div>\n",
       "<style scoped>\n",
       "    .dataframe tbody tr th:only-of-type {\n",
       "        vertical-align: middle;\n",
       "    }\n",
       "\n",
       "    .dataframe tbody tr th {\n",
       "        vertical-align: top;\n",
       "    }\n",
       "\n",
       "    .dataframe thead th {\n",
       "        text-align: right;\n",
       "    }\n",
       "</style>\n",
       "<table border=\"1\" class=\"dataframe\">\n",
       "  <thead>\n",
       "    <tr style=\"text-align: right;\">\n",
       "      <th></th>\n",
       "      <th>Setosa</th>\n",
       "      <th>Versicolour</th>\n",
       "      <th>Virginica</th>\n",
       "    </tr>\n",
       "  </thead>\n",
       "  <tbody>\n",
       "    <tr>\n",
       "      <th>Setosa</th>\n",
       "      <td>8</td>\n",
       "      <td>0</td>\n",
       "      <td>0</td>\n",
       "    </tr>\n",
       "    <tr>\n",
       "      <th>Versicolour</th>\n",
       "      <td>0</td>\n",
       "      <td>9</td>\n",
       "      <td>2</td>\n",
       "    </tr>\n",
       "    <tr>\n",
       "      <th>Virginica</th>\n",
       "      <td>0</td>\n",
       "      <td>0</td>\n",
       "      <td>11</td>\n",
       "    </tr>\n",
       "  </tbody>\n",
       "</table>\n",
       "</div>"
      ],
      "text/plain": [
       "             Setosa  Versicolour  Virginica\n",
       "Setosa            8            0          0\n",
       "Versicolour       0            9          2\n",
       "Virginica         0            0         11"
      ]
     },
     "execution_count": 119,
     "metadata": {},
     "output_type": "execute_result"
    }
   ],
   "source": [
    "matriz_confusion_test = pd.DataFrame(metrics.confusion_matrix(y_test, y_test_predicted), index = ['Setosa', 'Versicolour', 'Virginica'], columns = ['Setosa', 'Versicolour', 'Virginica'])\n",
    "matriz_confusion_test"
   ]
  },
  {
   "cell_type": "code",
   "execution_count": null,
   "metadata": {},
   "outputs": [],
   "source": [
    "#After using neighbors model, the accuracy, the balanced_accuracy and the confussion matrix improved "
   ]
  }
 ],
 "metadata": {
  "kernelspec": {
   "display_name": "Python 3",
   "language": "python",
   "name": "python3"
  },
  "language_info": {
   "codemirror_mode": {
    "name": "ipython",
    "version": 3
   },
   "file_extension": ".py",
   "mimetype": "text/x-python",
   "name": "python",
   "nbconvert_exporter": "python",
   "pygments_lexer": "ipython3",
   "version": "3.8.6"
  }
 },
 "nbformat": 4,
 "nbformat_minor": 2
}
